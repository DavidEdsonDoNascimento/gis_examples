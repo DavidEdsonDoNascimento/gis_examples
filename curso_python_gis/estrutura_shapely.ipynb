{
 "cells": [
  {
   "cell_type": "code",
   "execution_count": 1,
   "id": "2a9813d2-5833-4e04-9018-15f7063fb72f",
   "metadata": {},
   "outputs": [],
   "source": [
    "from shapely.geometry import Point, LineString, Polygon"
   ]
  },
  {
   "cell_type": "code",
   "execution_count": 2,
   "id": "7ece7a77-0f10-4237-b5f5-d33b72339d16",
   "metadata": {},
   "outputs": [],
   "source": [
    "pontoA = Point(4.4, 8.4)\n",
    "pontoB = Point(6.4, -10.4)\n",
    "pontoC = Point(8.4, -5.4)\n",
    "pontoD = Point(20.4, -5.4)\n",
    "ponto3D = Point(43.11, 75.1, 100)"
   ]
  },
  {
   "cell_type": "code",
   "execution_count": 3,
   "id": "c0ba5023-14a0-49f9-b977-330c24086f9a",
   "metadata": {},
   "outputs": [
    {
     "data": {
      "text/plain": [
       "18.90608367695436"
      ]
     },
     "execution_count": 3,
     "metadata": {},
     "output_type": "execute_result"
    }
   ],
   "source": [
    "pontoA.distance(pontoB)"
   ]
  },
  {
   "cell_type": "code",
   "execution_count": 4,
   "id": "3845db72-c893-43d2-92a0-5bef8f235f31",
   "metadata": {},
   "outputs": [],
   "source": [
    "coordenadas = [(27.69, 48.5), (20.59, -46.67), (40.14, -88.99), (80.33, 15.6), (43.11, 75.1)]\n",
    "coordenadasPontosObj = [pontoA, pontoB, pontoC]"
   ]
  },
  {
   "cell_type": "code",
   "execution_count": 5,
   "id": "3a721e8b-d194-4bb1-b8a0-79ebf599d91d",
   "metadata": {},
   "outputs": [
    {
     "data": {
      "image/svg+xml": [
       "<svg xmlns=\"http://www.w3.org/2000/svg\" xmlns:xlink=\"http://www.w3.org/1999/xlink\" width=\"100.0\" height=\"177.2172\" viewBox=\"14.0264 -95.55359999999999 72.8672 177.2172\" preserveAspectRatio=\"xMinYMin meet\"><g transform=\"matrix(1,0,0,-1,0,-13.89)\"><polyline fill=\"none\" stroke=\"#66cc99\" stroke-width=\"2.0\" points=\"27.69,48.5 20.59,-46.67 40.14,-88.99 80.33,15.6 43.11,75.1\" opacity=\"0.8\" /></g></svg>"
      ],
      "text/plain": [
       "<LINESTRING (27.69 48.5, 20.59 -46.67, 40.14 -88.99, 80.33 15.6, 43.11 75.1)>"
      ]
     },
     "execution_count": 5,
     "metadata": {},
     "output_type": "execute_result"
    }
   ],
   "source": [
    "linha = LineString(coordenadas)\n",
    "linha"
   ]
  },
  {
   "cell_type": "code",
   "execution_count": 6,
   "id": "df349e04-66bb-4442-b087-694a966bd203",
   "metadata": {},
   "outputs": [
    {
     "data": {
      "image/svg+xml": [
       "<svg xmlns=\"http://www.w3.org/2000/svg\" xmlns:xlink=\"http://www.w3.org/1999/xlink\" width=\"100.0\" height=\"177.2172\" viewBox=\"14.0264 -95.55359999999999 72.8672 177.2172\" preserveAspectRatio=\"xMinYMin meet\"><g transform=\"matrix(1,0,0,-1,0,-13.89)\"><path fill-rule=\"evenodd\" fill=\"#66cc99\" stroke=\"#555555\" stroke-width=\"2.0\" opacity=\"0.6\" d=\"M 27.69,48.5 L 20.59,-46.67 L 40.14,-88.99 L 80.33,15.6 L 43.11,75.1 L 27.69,48.5 z\" /></g></svg>"
      ],
      "text/plain": [
       "<POLYGON ((27.69 48.5, 20.59 -46.67, 40.14 -88.99, 80.33 15.6, 43.11 75.1, 2...>"
      ]
     },
     "execution_count": 6,
     "metadata": {},
     "output_type": "execute_result"
    }
   ],
   "source": [
    "poligono = Polygon(coordenadas)\n",
    "poligono"
   ]
  },
  {
   "cell_type": "code",
   "execution_count": 7,
   "id": "6f64a615-c58e-493e-b4b6-e17f6ed3ce8a",
   "metadata": {},
   "outputs": [
    {
     "data": {
      "image/svg+xml": [
       "<svg xmlns=\"http://www.w3.org/2000/svg\" xmlns:xlink=\"http://www.w3.org/1999/xlink\" width=\"100.0\" height=\"100.0\" viewBox=\"3.6480000000000006 -11.152000000000001 5.5040000000000004 20.304000000000002\" preserveAspectRatio=\"xMinYMin meet\"><g transform=\"matrix(1,0,0,-1,0,-2.0)\"><polyline fill=\"none\" stroke=\"#66cc99\" stroke-width=\"0.40608000000000005\" points=\"4.4,8.4 6.4,-10.4 8.4,-5.4\" opacity=\"0.8\" /></g></svg>"
      ],
      "text/plain": [
       "<LINESTRING (4.4 8.4, 6.4 -10.4, 8.4 -5.4)>"
      ]
     },
     "execution_count": 7,
     "metadata": {},
     "output_type": "execute_result"
    }
   ],
   "source": [
    "linha2 = LineString(coordenadasPontosObj)\n",
    "linha2"
   ]
  },
  {
   "cell_type": "code",
   "execution_count": 8,
   "id": "9d3f070f-8611-4eb3-854e-f923e603461b",
   "metadata": {},
   "outputs": [
    {
     "data": {
      "image/svg+xml": [
       "<svg xmlns=\"http://www.w3.org/2000/svg\" xmlns:xlink=\"http://www.w3.org/1999/xlink\" width=\"100.0\" height=\"100.0\" viewBox=\"3.6480000000000006 -11.152000000000001 5.5040000000000004 20.304000000000002\" preserveAspectRatio=\"xMinYMin meet\"><g transform=\"matrix(1,0,0,-1,0,-2.0)\"><path fill-rule=\"evenodd\" fill=\"#66cc99\" stroke=\"#555555\" stroke-width=\"0.40608000000000005\" opacity=\"0.6\" d=\"M 4.4,8.4 L 6.4,-10.4 L 8.4,-5.4 L 4.4,8.4 z\" /></g></svg>"
      ],
      "text/plain": [
       "<POLYGON ((4.4 8.4, 6.4 -10.4, 8.4 -5.4, 4.4 8.4))>"
      ]
     },
     "execution_count": 8,
     "metadata": {},
     "output_type": "execute_result"
    }
   ],
   "source": [
    "poligono2 = Polygon(coordenadasPontosObj)\n",
    "poligono2"
   ]
  },
  {
   "cell_type": "code",
   "execution_count": null,
   "id": "b67331fc-252c-4f50-afa3-cef1fc6129fb",
   "metadata": {},
   "outputs": [],
   "source": []
  }
 ],
 "metadata": {
  "kernelspec": {
   "display_name": "Python 3 (ipykernel)",
   "language": "python",
   "name": "python3"
  },
  "language_info": {
   "codemirror_mode": {
    "name": "ipython",
    "version": 3
   },
   "file_extension": ".py",
   "mimetype": "text/x-python",
   "name": "python",
   "nbconvert_exporter": "python",
   "pygments_lexer": "ipython3",
   "version": "3.12.4"
  }
 },
 "nbformat": 4,
 "nbformat_minor": 5
}
