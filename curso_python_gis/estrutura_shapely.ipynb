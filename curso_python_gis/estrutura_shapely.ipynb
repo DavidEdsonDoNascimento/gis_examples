{
 "cells": [
  {
   "cell_type": "code",
   "execution_count": 4,
   "id": "2a9813d2-5833-4e04-9018-15f7063fb72f",
   "metadata": {},
   "outputs": [],
   "source": [
    "from shapely.geometry import Point, LineString, Polygon"
   ]
  },
  {
   "cell_type": "code",
   "execution_count": 9,
   "id": "7ece7a77-0f10-4237-b5f5-d33b72339d16",
   "metadata": {},
   "outputs": [],
   "source": [
    "pontoA = Point(27.69, 48.5)\n",
    "pontoB = Point(23.59, 46.67)\n",
    "pontoC = Point(40.14, 88.99)\n",
    "ponto3D = Point(43.11, 75.1, 100)"
   ]
  },
  {
   "cell_type": "code",
   "execution_count": 12,
   "id": "c0ba5023-14a0-49f9-b977-330c24086f9a",
   "metadata": {},
   "outputs": [
    {
     "data": {
      "text/plain": [
       "4.4898663677218735"
      ]
     },
     "execution_count": 12,
     "metadata": {},
     "output_type": "execute_result"
    }
   ],
   "source": [
    "pontoA.distance(pontoB)"
   ]
  },
  {
   "cell_type": "code",
   "execution_count": 19,
   "id": "3a721e8b-d194-4bb1-b8a0-79ebf599d91d",
   "metadata": {},
   "outputs": [],
   "source": [
    "linha = LineString([(27.69, 48.5), (23.59, -46.67), (40.14, 88.99), (43.11, 75.1)])"
   ]
  },
  {
   "cell_type": "code",
   "execution_count": 20,
   "id": "7c6524f8-5d33-4822-9af4-3c88e44620f3",
   "metadata": {},
   "outputs": [
    {
     "data": {
      "image/svg+xml": [
       "<svg xmlns=\"http://www.w3.org/2000/svg\" xmlns:xlink=\"http://www.w3.org/1999/xlink\" width=\"100.0\" height=\"146.5128\" viewBox=\"18.1636 -52.0964 30.3728 146.5128\" preserveAspectRatio=\"xMinYMin meet\"><g transform=\"matrix(1,0,0,-1,0,42.31999999999999)\"><polyline fill=\"none\" stroke=\"#66cc99\" stroke-width=\"2.0\" points=\"27.69,48.5 23.59,-46.67 40.14,88.99 43.11,75.1\" opacity=\"0.8\" /></g></svg>"
      ],
      "text/plain": [
       "<LINESTRING (27.69 48.5, 23.59 -46.67, 40.14 88.99, 43.11 75.1)>"
      ]
     },
     "execution_count": 20,
     "metadata": {},
     "output_type": "execute_result"
    }
   ],
   "source": [
    "linha"
   ]
  },
  {
   "cell_type": "code",
   "execution_count": null,
   "id": "df349e04-66bb-4442-b087-694a966bd203",
   "metadata": {},
   "outputs": [],
   "source": []
  }
 ],
 "metadata": {
  "kernelspec": {
   "display_name": "Python 3 (ipykernel)",
   "language": "python",
   "name": "python3"
  },
  "language_info": {
   "codemirror_mode": {
    "name": "ipython",
    "version": 3
   },
   "file_extension": ".py",
   "mimetype": "text/x-python",
   "name": "python",
   "nbconvert_exporter": "python",
   "pygments_lexer": "ipython3",
   "version": "3.12.4"
  }
 },
 "nbformat": 4,
 "nbformat_minor": 5
}
